{
  "nbformat": 4,
  "nbformat_minor": 0,
  "metadata": {
    "colab": {
      "name": "torch_test.ipynb",
      "provenance": [],
      "collapsed_sections": [],
      "toc_visible": true
    },
    "kernelspec": {
      "name": "python3",
      "display_name": "Python 3"
    },
    "language_info": {
      "name": "python"
    }
  },
  "cells": [
    {
      "cell_type": "code",
      "metadata": {
        "id": "Y7tHj8MGyDd_"
      },
      "source": [
        "import torch\n",
        "import torch.nn as nn\n",
        "import torch.nn.functional as F\n",
        "import torch.optim as optim"
      ],
      "execution_count": 12,
      "outputs": []
    },
    {
      "cell_type": "code",
      "metadata": {
        "id": "yVIavdOj8KV9"
      },
      "source": [
        "class TwoLP(nn.Module):\n",
        "  def __init__(self, input_units, mid_units, output_units):\n",
        "    super(TwoLP, self).__init__()\n",
        "    self.fc1 = nn.Linear(input_units, mid_units)\n",
        "    self.relu1 = nn.ReLU()\n",
        "    self.fc2 = nn.Linear(mid_units, output_units)\n",
        "    self.relu2 = nn.ReLU()\n",
        "  def forward(self, x):\n",
        "    x = self.relu1(self.fc1(x))\n",
        "    x = self.fc2(x)\n",
        "    return x"
      ],
      "execution_count": 17,
      "outputs": []
    },
    {
      "cell_type": "code",
      "metadata": {
        "id": "F-Yv_to5-Yw0"
      },
      "source": [
        "net = TwoLP(2, 10, 1)\n",
        "\n",
        "input_tensor = torch.tensor(\n",
        "    [\n",
        "     [0, 0],\n",
        "     [1, 0],\n",
        "     [0, 1],\n",
        "     [1, 1]\n",
        "    ]\n",
        ")\n",
        "\n",
        "output_tensor = torch.tensor(\n",
        "    [\n",
        "     [0],\n",
        "     [1],\n",
        "     [1],\n",
        "     [0]\n",
        "    ]\n",
        ")\n",
        "\n",
        "criterion = nn.MSELoss()\n",
        "optimizer = optim.Adam(net.parameters(), lr=0.001)\n",
        "\n",
        "input_tensor = input_tensor.to(torch.float)\n",
        "output_tensor = output_tensor.to(torch.float)"
      ],
      "execution_count": 18,
      "outputs": []
    },
    {
      "cell_type": "code",
      "metadata": {
        "id": "hCCJCD3n-ko_"
      },
      "source": [
        "epoch_num = 100"
      ],
      "execution_count": 19,
      "outputs": []
    },
    {
      "cell_type": "code",
      "metadata": {
        "id": "rdgkRnRV_Zwf"
      },
      "source": [
        "for epoch in range(epoch_num):\n",
        "  optimizer.zero_grad()\n",
        "  net_output = net(input_tensor)\n",
        "  loss = criterion(net_output, output_tensor)\n",
        "  loss.backward()\n",
        "  optimizer.step()"
      ],
      "execution_count": 20,
      "outputs": []
    },
    {
      "cell_type": "code",
      "metadata": {
        "colab": {
          "base_uri": "https://localhost:8080/"
        },
        "id": "IMaQavYTBG1z",
        "outputId": "16fdd325-ca21-423e-fd29-55d3b7dbd20b"
      },
      "source": [
        "net(input_tensor)"
      ],
      "execution_count": 23,
      "outputs": [
        {
          "output_type": "execute_result",
          "data": {
            "text/plain": [
              "tensor([[-0.0471],\n",
              "        [ 0.0487],\n",
              "        [-0.0380],\n",
              "        [-0.0373]], grad_fn=<AddmmBackward>)"
            ]
          },
          "metadata": {
            "tags": []
          },
          "execution_count": 23
        }
      ]
    },
    {
      "cell_type": "code",
      "metadata": {
        "id": "OTGCjslwBX2I"
      },
      "source": [
        ""
      ],
      "execution_count": null,
      "outputs": []
    }
  ]
}